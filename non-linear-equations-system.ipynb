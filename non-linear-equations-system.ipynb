{
 "cells": [
  {
   "cell_type": "code",
   "execution_count": 2,
   "metadata": {},
   "outputs": [
    {
     "name": "stdout",
     "output_type": "stream",
     "text": "[1.02590467 0.15549763] [-7.55668861e-11  2.77555756e-17]\n[1.02590467 0.15549763] [0.00000000e+00 9.76314168e-10]\n[1.02590466 0.15549763] [5.71456005e-09 8.61213997e-09]\n"
    }
   ],
   "source": [
    "import numpy as np\n",
    "import matplotlib.pyplot as plt\n",
    "from scipy.optimize import minimize\n",
    "from math import sqrt\n",
    "\n",
    "\n",
    "def norm(a):\n",
    "    x = 0.0\n",
    "    for i in a:\n",
    "        x = x + (i * i)\n",
    "    return sqrt(x)\n",
    "\n",
    "def F1(x):\n",
    "    # 0.5 * np.sin(x[1] / 3.0) - x[0] + 1\n",
    "    # 0.3 * np.cos(x[0]) - x[1]\n",
    "    return np.array([0.5 * np.sin(x[1] / 3.0) - x[0] + 1, 0.3 * np.cos(x[0]) - x[1]])\n",
    "\n",
    "def dF1(x):\n",
    "    # -1                 x[1]*np.cos(x[1]*x[1]/3.0)/3.0\n",
    "    # -0.3*np.sin(x[0])  -1\n",
    "    \n",
    "    return np.array([-1, np.cos(x[1]/3.0)/3.0, -0.3*np.sin(x[0]), -1]).reshape(2, 2)\n",
    "\n",
    "def G1(x):\n",
    "    # x[0] = 0.5 * np.sin(x[1] / 3.0) + 1\n",
    "    # x[1] = 0.3 * np.cos(x[0])\n",
    "    return np.array([0.5 * np.sin(x[1] / 3.0) + 1, 0.3 * np.cos(x[0])])\n",
    "\n",
    "def newton(x, eps, F, dF):\n",
    "    y = F(x)\n",
    "    while norm(y) > eps:\n",
    "        x = x - np.matmul(np.linalg.inv(dF(x)), y)\n",
    "        y = F(x)\n",
    "    return x\n",
    "\n",
    "def itermethod(x, eps, G):\n",
    "    y = G(x)\n",
    "    while norm(y - x) > eps:\n",
    "        x = G(x)\n",
    "        y = G(x)\n",
    "    return x\n",
    "\n",
    "def fi(x):\n",
    "    f = F1(x)\n",
    "    n = norm(f)\n",
    "    return n*n\n",
    "\n",
    "xx = np.array([1.0, 0.0]) \n",
    "result1 = newton(xx, 0.000000001, F1, dF1)\n",
    "result2 = itermethod(xx, 0.000000001, G1)\n",
    "result3 = minimize(fi, xx, tol=1e-10)\n",
    "\n",
    "print(result1, F1(result1))\n",
    "print(result2, G1(result2) - result2)\n",
    "print(result3.x, F1(result3.x))"
   ]
  },
  {
   "cell_type": "code",
   "execution_count": null,
   "metadata": {},
   "outputs": [],
   "source": []
  },
  {
   "cell_type": "code",
   "execution_count": null,
   "metadata": {},
   "outputs": [],
   "source": []
  }
 ],
 "metadata": {
  "kernelspec": {
   "display_name": "Python 3",
   "language": "python",
   "name": "python3"
  },
  "language_info": {
   "codemirror_mode": {
    "name": "ipython",
    "version": 3
   },
   "file_extension": ".py",
   "mimetype": "text/x-python",
   "name": "python",
   "nbconvert_exporter": "python",
   "pygments_lexer": "ipython3",
   "version": "3.7.4-final"
  }
 },
 "nbformat": 4,
 "nbformat_minor": 2
}