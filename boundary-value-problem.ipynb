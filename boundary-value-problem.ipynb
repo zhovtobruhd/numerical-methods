{
 "cells": [
  {
   "cell_type": "code",
   "execution_count": 8,
   "metadata": {},
   "outputs": [
    {
     "data": {
      "text/plain": [
       "[]"
      ]
     },
     "execution_count": 8,
     "metadata": {},
     "output_type": "execute_result"
    },
    {
     "data": {
      "image/png": "[encoded data removed]",
      "text/plain": [
       "<Figure size 432x288 with 2 Axes>"
      ]
     },
     "metadata": {
      "needs_background": "light"
     },
     "output_type": "display_data"
    }
   ],
   "source": [
    "import matplotlib.pyplot as plt\n",
    "import numpy as np\n",
    "import scipy as sp\n",
    "\n",
    "def p1(x):\n",
    "    return x*x*x + 1\n",
    "\n",
    "def q1(x):\n",
    "    return 1 - x * x\n",
    "\n",
    "def f1(x):\n",
    "    return np.exp(1 - 2.5 * x * x)\n",
    "\n",
    "def p2(x):\n",
    "    return 1.0 / x\n",
    "\n",
    "def q2(x):\n",
    "    return 0.0\n",
    "\n",
    "def f2(x):\n",
    "    return 1.0 / (x * x)\n",
    "\n",
    "def finitedifferencemethod(p, q, f, a, b, ya ,yb, alpha, beta, n):\n",
    "    h = (b - a) / float(n)\n",
    "    x = list()\n",
    "    d = list()\n",
    "    for i in range(0, (n + 1)):\n",
    "        x.append(a + float(i) * h)\n",
    "        d.append(float(i) + 1.0)\n",
    "    x = np.array(x)\n",
    "    C = np.zeros((n + 1, n + 1), order='C')\n",
    "    d = np.array(d)\n",
    "    \n",
    "    C[0][0] = alpha[0] * h + alpha[1]\n",
    "    C[0][1] = alpha[1]\n",
    "    d[0] = ya * h\n",
    "    \n",
    "    for i in range(1, n):\n",
    "        C[i][i - 1] = 1 - h * p(x[i]) / 2.0\n",
    "        C[i][i] = h * h * q(x[i]) - 2.0\n",
    "        C[i][i + 1] = 1 + h * p(x[i]) / 2.0\n",
    "        d[i] = f(x[i]) * h * h\n",
    "    \n",
    "    C[n][n - 1] = -beta[1]\n",
    "    C[n][n] = beta[0] * h + beta[1]\n",
    "    d[n] = yb * h\n",
    "    \n",
    "    y = np.linalg.solve(C, d)\n",
    "   \n",
    "    return x, y\n",
    "    \n",
    "a1, b1 = 0.0, 1.0\n",
    "ya1, yb1 = 0.0, 0.0\n",
    "alpha1 = np.array([1.0, 0.0])\n",
    "beta1 = np.array([1.0, 0.0])\n",
    "resultx1, resulty1 = finitedifferencemethod(p1, q1, f1, a1, b1, ya1 ,yb1, alpha1, beta1, 5)\n",
    "resultx2, resulty2 = finitedifferencemethod(p1, q1, f1, a1, b1, ya1 ,yb1, alpha1, beta1, 30)\n",
    "\n",
    "# a2, b2 = 1.0, 1.4\n",
    "# ya2, yb2 = 0.0, 0.05661\n",
    "# alpha2 = np.array([1.0, 0.0])\n",
    "# beta2 = np.array([1.0, 0.0])\n",
    "# resultx1, resulty1 = finitedifferencemethod(p2, q2, f2, a2, b2, ya2, yb2, alpha2, beta2, 5)\n",
    "# resultx2, resulty2 = finitedifferencemethod(p2, q2, f2, a2, b2, ya2, yb2, alpha2, beta2, 10)\n",
    "\n",
    "fig, axs = plt.subplots(2, constrained_layout=True)\n",
    "fig.suptitle(\"Finite difference\")\n",
    "axs[0].plot(resultx1, resulty1, 'b.-')\n",
    "axs[1].plot(resultx2, resulty2, 'r.-')\n",
    "plt.plot()\n",
    "# print(resultx1) \n",
    "# print(resulty1)\n",
    "# print(resultx2) \n",
    "# print(resulty2)"
   ]
  },
  {
   "cell_type": "code",
   "execution_count": null,
   "metadata": {},
   "outputs": [],
   "source": []
  },
  {
   "cell_type": "code",
   "execution_count": null,
   "metadata": {},
   "outputs": [],
   "source": []
  }
 ],
 "metadata": {
  "kernelspec": {
   "display_name": "Python 3",
   "language": "python",
   "name": "python3"
  },
  "language_info": {
   "codemirror_mode": {
    "name": "ipython",
    "version": 3
   },
   "file_extension": ".py",
   "mimetype": "text/x-python",
   "name": "python",
   "nbconvert_exporter": "python",
   "pygments_lexer": "ipython3",
   "version": "3.7.4"
  }
 },
 "nbformat": 4,
 "nbformat_minor": 2
}
