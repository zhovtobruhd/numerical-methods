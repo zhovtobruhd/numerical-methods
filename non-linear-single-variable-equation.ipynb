{
 "cells": [
  {
   "cell_type": "code",
   "execution_count": 7,
   "metadata": {
    "scrolled": true
   },
   "outputs": [
    {
     "data": {
      "image/png": "[encoded data removed]",
      "text/plain": [
       "<Figure size 432x288 with 1 Axes>"
      ]
     },
     "metadata": {
      "needs_background": "light"
     },
     "output_type": "display_data"
    },
    {
     "name": "stdout",
     "output_type": "stream",
     "text": [
      "0.48982393006146463 -3.5083047578154947e-14\n",
      "0.48982393006146974 -7.105427357601002e-15\n",
      "0.48982393006147107 0.0\n",
      "0.48982393014405173 -6.975592325986213e-11\n"
     ]
    }
   ],
   "source": [
    "import numpy as np\n",
    "import matplotlib.pyplot as plt\n",
    "\n",
    "\n",
    "def f1(x):\n",
    "    return (np.tan(2*x) - 1 - x)\n",
    "\n",
    "\n",
    "def df1(x):\n",
    "    return (2.0/(np.cos(2*x)*np.cos(2*x)) - 1)\n",
    "\n",
    "\n",
    "def g1(x):  # x = tg(2x) - 1\n",
    "    return (np.arctan((x + 1.0)) / 2.0)\n",
    "\n",
    "\n",
    "# def dg1(x):\n",
    "#     return 1.0/(2.0 + (x + 1.0) * (x + 1.0)/ 2.0)\n",
    "\n",
    "\n",
    "\n",
    "def binsearch(a : float, b : float, eps : float, f):\n",
    "    while b - a > eps:\n",
    "        if f(a) * f((a + b) / 2) < 0:\n",
    "            b = (a + b) / 2\n",
    "        else:\n",
    "            a = (a + b) / 2\n",
    "    return a\n",
    "\n",
    "\n",
    "def chordsearch(a : float, b : float, eps : float, f):\n",
    "    x = a - (((b - a) * f(a)) / (f(b) - f(a)))\n",
    "    while np.abs(f(x)) > eps:\n",
    "        if f(a)*f(x) < 0:\n",
    "            b = x\n",
    "        else: \n",
    "            a = x\n",
    "        x = a - (((b - a) * f(a)) / (f(b) - f(a)))\n",
    "    return x\n",
    "\n",
    "\n",
    "def tangentsearch(x0 : float, eps : float, f, df):\n",
    "    while np.abs(f(x0)) > eps:\n",
    "        x0 = x0 - f(x0)/df(x0)\n",
    "    return x0\n",
    "    \n",
    "\n",
    "def fixedpointitersearch(x0 : float, eps : float, g):\n",
    "    while np.abs(g(x0) - x0) > eps:\n",
    "        x0 = g(x0)\n",
    "    return x0\n",
    "\n",
    "\n",
    "axisx = np.arange(-5, 5, 0.001)\n",
    "fx = f1(axisx)\n",
    "#dgx = dg1(axisx)\n",
    "plt.axis([-np.pi/4, 1, -2, 4])\n",
    "plt.plot(axisx, fx, 'r.')\n",
    "#plt.plot(axisx, dgx, 'g.')\n",
    "plt.grid(True)\n",
    "plt.show()\n",
    "\n",
    "result1 = binsearch(-0.6, 0.6, 0.00000000000001, f1)\n",
    "result2 = chordsearch(-0.6, 0.6, 0.00000000000001, f1)\n",
    "result3 = tangentsearch(0.3, 0.00000000000001, f1, df1)\n",
    "\n",
    "# Не выполняется условие сходимости |g(x)| < 1 для g(x) = tg(2x) - 1, g'(x) = 2 / cos(2x)^2 \n",
    "result4 = fixedpointitersearch(0.5, 0.0000000001, g1) \n",
    "\n",
    "print(result1, f1(result1))\n",
    "print(result2, f1(result2))\n",
    "print(result3, f1(result3))\n",
    "print(result4, g1(result4) - result4)\n"
   ]
  },
  {
   "cell_type": "code",
   "execution_count": null,
   "metadata": {
    "scrolled": true
   },
   "outputs": [],
   "source": []
  },
  {
   "cell_type": "code",
   "execution_count": null,
   "metadata": {},
   "outputs": [],
   "source": []
  }
 ],
 "metadata": {
  "kernelspec": {
   "display_name": "Python 3",
   "language": "python",
   "name": "python3"
  },
  "language_info": {
   "codemirror_mode": {
    "name": "ipython",
    "version": 3
   },
   "file_extension": ".py",
   "mimetype": "text/x-python",
   "name": "python",
   "nbconvert_exporter": "python",
   "pygments_lexer": "ipython3",
   "version": "3.7.1"
  }
 },
 "nbformat": 4,
 "nbformat_minor": 2
}
