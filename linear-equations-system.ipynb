{
 "cells": [
  {
   "cell_type": "code",
   "execution_count": 1,
   "metadata": {},
   "outputs": [
    {
     "name": "stdout",
     "output_type": "stream",
     "text": [
      "[-2.23257321  1.60103911  1.27600715  0.38559711]\n",
      "[-2.23257321  1.60103911  1.27600715  0.38559711]\n",
      "[-2.23257321  1.60103911  1.27600715  0.38559711]\n"
     ]
    }
   ],
   "source": [
    "import numpy as np\n",
    "import math\n",
    "\n",
    "def gauss(A, b):\n",
    "    n = A.shape[0]\n",
    "    \n",
    "    for k in range(n):\n",
    "        b[k] = b[k] / A[k][k]\n",
    "        A[k] = A[k] / A[k][k]\n",
    "        for i in range(k + 1, n):\n",
    "            t = A[i][k]\n",
    "            A[i] = A[i] - A[k] * t\n",
    "            b[i] = b[i] - b[k] * t\n",
    "    \n",
    "    for k in reversed(range(n)):\n",
    "        for i in range(k + 1, n):\n",
    "            b[k] = b[k] - b[i] * A[k][i]\n",
    "    \n",
    "    return b\n",
    "\n",
    "\n",
    "def norm(a):\n",
    "    x = 0.0\n",
    "    for i in a:\n",
    "        x = x + (i * i)\n",
    "    \n",
    "    return math.sqrt(x)\n",
    "\n",
    "def iterations(C, d, eps):\n",
    "    x = d\n",
    "    lx = 0\n",
    "    while norm(lx - x) > eps:\n",
    "        lx = x\n",
    "        x = np.matmul(C, x) + d\n",
    "    \n",
    "    return x\n",
    "\n",
    "\n",
    "def jacobi(A, b, eps):\n",
    "    n = A.shape[0]\n",
    "    \n",
    "    for i in range(n):\n",
    "        b[i] = b[i] / A[i][i]\n",
    "        A[i] = -A[i] / A[i][i]\n",
    "        A[i][i] = 0\n",
    "    \n",
    "    return iterations(A, b, eps)\n",
    "\n",
    "X = np.array([7.01, 0.93, 0.75, 0.53, 0.22, 3.67, 0.31, 0.57, 0.46, 0.67, 9.16, 0.69, 0.82, 0.37, 0.35, 7.24]).reshape(4, 4)\n",
    "y = np.array([-13, 6, 12, 2], dtype=float)\n",
    "\n",
    "print(gauss(X, y))\n",
    "\n",
    "X = np.array([7.01, 0.93, 0.75, 0.53, 0.22, 3.67, 0.31, 0.57, 0.46, 0.67, 9.16, 0.69, 0.82, 0.37, 0.35, 7.24]).reshape(4, 4)\n",
    "y = np.array([-13, 6, 12, 2], dtype=float)\n",
    "\n",
    "print(jacobi(X, y, 0.00000001))\n",
    "\n",
    "X = np.array([7.01, 0.93, 0.75, 0.53, 0.22, 3.67, 0.31, 0.57, 0.46, 0.67, 9.16, 0.69, 0.82, 0.37, 0.35, 7.24]).reshape(4, 4)\n",
    "y = np.array([-13, 6, 12, 2], dtype=float)\n",
    "\n",
    "print(np.linalg.solve(X, y))\n"
   ]
  },
  {
   "cell_type": "code",
   "execution_count": 2,
   "metadata": {},
   "outputs": [
    {
     "name": "stdout",
     "output_type": "stream",
     "text": [
      "[[7.01 0.93 0.75 0.53]\n",
      " [0.22 3.67 0.31 0.57]\n",
      " [0.46 0.67 9.16 0.69]\n",
      " [0.82 0.37 0.35 7.24]]\n"
     ]
    }
   ],
   "source": [
    "print(X)"
   ]
  },
  {
   "cell_type": "code",
   "execution_count": null,
   "metadata": {},
   "outputs": [],
   "source": []
  }
 ],
 "metadata": {
  "kernelspec": {
   "display_name": "Python 3",
   "language": "python",
   "name": "python3"
  },
  "language_info": {
   "codemirror_mode": {
    "name": "ipython",
    "version": 3
   },
   "file_extension": ".py",
   "mimetype": "text/x-python",
   "name": "python",
   "nbconvert_exporter": "python",
   "pygments_lexer": "ipython3",
   "version": "3.7.1"
  }
 },
 "nbformat": 4,
 "nbformat_minor": 2
}
