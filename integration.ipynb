{
 "cells": [
  {
   "cell_type": "code",
   "execution_count": 4,
   "metadata": {},
   "outputs": [
    {
     "name": "stdout",
     "output_type": "stream",
     "text": [
      "174.4491097510046 173.4128908214698\n",
      "144.2709623949026 157.86715988487387\n",
      "172.00078120556137\n",
      "171.99912109578995\n"
     ]
    }
   ],
   "source": [
    "import matplotlib.pyplot as plt\n",
    "import numpy as np\n",
    "import scipy as sp\n",
    "\n",
    "def foo(x):\n",
    "    return 3 * (np.sqrt(x) + x)\n",
    " \n",
    "def tabletrap(x, y):\n",
    "    result = 0\n",
    "    h = x[1] - x[0]\n",
    "    for i in range(0, len(x) - 1):\n",
    "        result += ((y[i] + y[i + 1]) / 2)\n",
    "    return h * result\n",
    "\n",
    "def antrap(f, a, b, n):\n",
    "    x = np.arange(a, b, (b - a) / n)\n",
    "    y = f(x)\n",
    "    return tabletrap(x, y)\n",
    "\n",
    "def simpson(x, y):\n",
    "    n = len(y)\n",
    "    h = (x[1] - x[0])\n",
    "    sum2k = 0.0\n",
    "    sum2k1 = 0.0\n",
    "    for k in range(0, n, 2):\n",
    "        sum2k += y[k]\n",
    "    for k in range(1, n, 2):\n",
    "        sum2k1 += y[k]\n",
    "    return h * (y[0] + y[n-1] + 2.0 * sum2k + 4.0 * sum2k1) / 3.0\n",
    "\n",
    "def ansimpson(f, a, b, n):\n",
    "    x = np.arange(a, b, (b - a) / n)\n",
    "    y = f(x)\n",
    "    return simpson(x, y)\n",
    "\n",
    "def precint(i, f, a, b, n, eps):\n",
    "    s1 = i(f, a, b, int(n))\n",
    "    s2 = i(f, a, b, int(n * 4))\n",
    "    while np.abs(s2 - s1) > eps:\n",
    "        n *= 2\n",
    "        s1 = s2\n",
    "        s2 = i(f, a, b, int(n))\n",
    "    return s2\n",
    "\n",
    "print(ansimpson(foo, 1, 9, 10), ansimpson(foo, 1, 9, 20))\n",
    "print(antrap(foo, 1, 9, 10), antrap(foo, 1, 9, 20))\n",
    "print(precint(ansimpson, foo, 1, 9, 10, 1e-3))\n",
    "print(precint(antrap, foo, 1, 9, 10, 1e-3))"
   ]
  },
  {
   "cell_type": "code",
   "execution_count": null,
   "metadata": {},
   "outputs": [],
   "source": []
  }
 ],
 "metadata": {
  "kernelspec": {
   "display_name": "Python 3",
   "language": "python",
   "name": "python3"
  },
  "language_info": {
   "codemirror_mode": {
    "name": "ipython",
    "version": 3
   },
   "file_extension": ".py",
   "mimetype": "text/x-python",
   "name": "python",
   "nbconvert_exporter": "python",
   "pygments_lexer": "ipython3",
   "version": "3.7.1"
  }
 },
 "nbformat": 4,
 "nbformat_minor": 2
}
